{
 "cells": [
  {
   "cell_type": "markdown",
   "metadata": {},
   "source": [
    "# The Db2 Data Management Console Technical Preview "
   ]
  },
  {
   "cell_type": "code",
   "execution_count": 1,
   "metadata": {},
   "outputs": [],
   "source": [
    "# Import the class libraries \n",
    "import requests\n",
    "import ssl\n",
    "import json\n",
    "from pprint import pprint\n",
    "from requests import Response\n",
    "import pandas as pd\n",
    "import time\n",
    "from requests.packages.urllib3.exceptions import InsecureRequestWarning\n",
    "requests.packages.urllib3.disable_warnings(InsecureRequestWarning)\n",
    "from IPython.display import IFrame\n",
    "from IPython.display import display, HTML\n",
    "from pandas.io.json import json_normalize"
   ]
  },
  {
   "cell_type": "code",
   "execution_count": 2,
   "metadata": {},
   "outputs": [],
   "source": [
    "# Run the Db2 Class library\n",
    "# Used to construct and reuse an Autentication Key\n",
    "# Used to construct RESTAPI URLs and JSON payloads\n",
    "class Db2():\n",
    "    \n",
    "    def __init__(self, url, verify = False, proxies=None, ):\n",
    "        self.url = url\n",
    "        self.proxies = proxies\n",
    "        self.verify = verify\n",
    "\n",
    "    def authenticate(self, userid, password, profile=\"\"):\n",
    "        credentials = {'userid':userid, 'password':password}\n",
    "        r = requests.post(self.url+'/auth/tokens', verify=self.verify, json=credentials, proxies=self.proxies)\n",
    "        if (r.status_code == 200):\n",
    "            bearerToken = r.json()['token']\n",
    "            if profile == \"\":\n",
    "                self.headers = {'Authorization': 'Bearer'+ ' '+bearerToken}\n",
    "            else:\n",
    "                self.headers = {'Authorization': 'Bearer'+ ' '+bearerToken, 'X-DB-Profile': profile}\n",
    "        else:\n",
    "            print ('Unable to authenticate, no bearer token obtained')\n",
    "        \n",
    "    def printResponse(self, r, code):\n",
    "        if (r.status_code == code):\n",
    "            pprint(r.json())\n",
    "        else:\n",
    "            print (r.status_code)\n",
    "            print (r.content)\n",
    "    \n",
    "    def getRequest(self, api, json=None):\n",
    "        return requests.get(self.url+api, verify = self.verify, headers=self.headers, proxies = self.proxies, json=json)\n",
    "\n",
    "    def postRequest(self, api, json=None):\n",
    "        return requests.post(self.url+api, verify = self.verify, headers=self.headers, proxies = self.proxies, json=json) \n",
    "        \n",
    "    def getStatusCode(self, response):\n",
    "        return (response.status_code)\n",
    "\n",
    "    def getJSON(self, response):\n",
    "        return (response.json())\n",
    "    \n",
    "    def getSchemas(self):\n",
    "        return self.getRequest('/schemas')\n",
    "    \n",
    "    def runSQL(self, script, limit=10, separator=';', stopOnError=False):\n",
    "        sqlJob = {'commands': script, 'limit':limit, 'separator':separator, 'stop_on_error':str(stopOnError)}\n",
    "        return self.postRequest('/sql_jobs',sqlJob)\n",
    "        \n",
    "    def getSQLJobResult(self, jobid):\n",
    "        return self.getRequest('/sql_jobs/'+jobid)\n",
    "    \n",
    "    def getCurrentApplicationsConnections(self):\n",
    "        return self.getRequest('/metrics/applications/connections/current/list')\n",
    "    \n",
    "    def getInflightCount(self, startTime, endTime):\n",
    "        return self.getRequest('/metrics/statements/inflight_executions/current/list?start='+str(startTime)+'&end='+str(endTime));\n",
    "       \n",
    "    def getInflightCurrentList(self):\n",
    "        return self.getRequest('/metrics/statements/inflight_executions/current/list');\n",
    "    \n",
    "    def getIndividualStatementExecution(self, startTime, endTime, limit=100, includeSystem='false'):\n",
    "        return self.getRequest('/metrics/statements/evmon_activity?start='+str(startTime)+'&end='+str(endTime)+'&include_sys='+str(includeSystem)+'&offset=0&limit='+str(limit))\n",
    "\n",
    "    def getFiles(self, path):\n",
    "        return self.getRequest('/home'+path)\n",
    "    \n",
    "    def getUsers(self):\n",
    "        return self.getRequest('/users')\n",
    "    \n",
    "    def getTablesMetrics(self, startTime, endTime, includeSystem='false'):\n",
    "        return self.getRequest('/metrics/tables?start='+str(startTime)+'&end='+str(endTime)+'&include_sys='+str(includeSystem));\n",
    "\n",
    "    def getAverageResponseTime(self, startTime, endTime):\n",
    "        return self.getRequest('/metrics/average_response_time?start='+str(startTime)+'&end='+str(endTime));    \n",
    "    \n",
    "    def getUnitsOfWork(self, startTime, endTime):\n",
    "        return self.getRequest('/applications/uow?start='+str(startTime)+'&end='+str(endTime));    \n",
    "    \n",
    "    def getSchemaSize(self, startTime, endTime, tabSchema):\n",
    "        return self.getRequest('/metrics/storage/schemas/'+tabSchema+'/timeseries?start='+str(startTime)+'&end='+str(endTime));\n",
    "  \n",
    "    def getSearchViewList(self, searchtext, show_systems=\"false\"):\n",
    "        return self.getRequest('/admin/schemas/obj_type/view?search_name='+searchtext+'&show_systems='+str(show_systems)+'&rows_return=200');\n",
    "    \n",
    "    def getSearchTableList(self, searchtext):\n",
    "        return self.getRequest('/admin/schemas/obj_type/table?search_name='+searchtext+'&show_systems=true&rows_return=100');\n",
    "              \n",
    "    def getRowsRead(self, startTime, endTime):\n",
    "        return self.getRequest('/metrics/rows_read?start='+str(startTime)+'&end='+str(endTime));\n",
    "\n",
    "    def getResponseTime(self, startTime, endTime):\n",
    "        return self.getRequest('/metrics/response_time?start='+str(startTime)+'&end='+str(endTime));\n",
    "\n",
    "    def getStatementsCount(self, startTime, endTime):\n",
    "        return self.getRequest('/metrics/statements_count?start='+str(startTime)+'&end='+str(endTime));\n",
    "\n",
    "    def getPackageCacheStatement(self, startTime, endTime):\n",
    "        return self.getRequest('/metrics/statements/package_cache?start='+str(startTime)+'&end='+str(endTime))\n",
    "    \n",
    "    def postSearchObjects(self, obj_type, search_text, rows_return=100, show_systems='false', is_ascend='true'):     \n",
    "        json = {\"search_name\":search_text,\"rows_return\":rows_return,\"show_systems\":show_systems,\"obj_type\":obj_type,\"filters_match\":\"ALL\",\"filters\":[]}       \n",
    "        return self.postRequest('/admin/'+str(obj_type)+'s',json);\n",
    "                \n",
    "    def getEXPLAINModel(self, profile, currentSchema, statement):\n",
    "        json = {'schema':currentSchema, 'sql':statement}\n",
    "        explainHeaders = self.headers.copy()\n",
    "        explainHeaders['X-DB-Profile'] = profile\n",
    "        return requests.post(self.url+'/explain/explain_model', verify = self.verify, headers=explainHeaders, proxies = self.proxies, json=json) \n",
    "    \n",
    "    def getEXPLAINNodes(self, profile, session):\n",
    "        explainHeaders = self.headers.copy()\n",
    "        explainHeaders['X-DB-Profile'] = profile\n",
    "        return requests.get(self.url+'/explain/explain_model/'+session+'/diagram/nodes', verify = self.verify, headers=explainHeaders, proxies = self.proxies) \n",
    "\n",
    "    def getEXPLAINLayout(self, profile, session, ids, labels):\n",
    "        idsWithWidth = list()\n",
    "        labelsWithWidth = list()\n",
    "        for id in ids:\n",
    "            idsWithWidth.append({\"text\":id, \"width\": 60})\n",
    "        for label in labels:\n",
    "            labelsWithWidth.append({\"text\": label, \"width\": 60})\n",
    "        json = {\"idFontHeight\":20, \"ids\": idsWithWidth, \"labelFontHeight\":20, \"label1s\": labelsWithWidth}\n",
    "        pprint(json)\n",
    "        explainHeaders = self.headers.copy()\n",
    "        explainHeaders['X-DB-Profile'] = profile\n",
    "        return requests.post(self.url+'/explain/explain_model/'+session+'/diagram/layout', verify = self.verify, headers=explainHeaders, proxies = self.proxies, json=json) \n",
    "    \n",
    "    def putFile(self, filename, path):\n",
    "        with open(filename, 'rb') as f:\n",
    "            r = requests.post(self.url+'/home_content/path', files={filename: f}, verify = self.verify, headers=self.headers, proxies = self.proxies)\n",
    "            \n",
    "    def getTablesInSchema(self, schema):\n",
    "        return self.getRequest('/schemas/'+str(schema)+'/tables');\n",
    "    \n",
    "    def getTableStorageBySchema(self):\n",
    "        return self.getRequest('/monitor/storage/by_schema');\n",
    "    \n",
    "    def getCurrentPackageCacheList(self):\n",
    "        return self.getRequest('/metrics/statements/package_cache/current/list')\n",
    "    \n",
    "    def getProfile(self,profile):\n",
    "        return self.getRequest('/dbprofiles/'+profile)    "
   ]
  },
  {
   "cell_type": "code",
   "execution_count": 3,
   "metadata": {},
   "outputs": [],
   "source": [
    "# Setup data frame set calculation functions\n",
    "def epochtotimeseries(epoch):\n",
    "    return time.strftime('%Y-%m-%d %H:%M:%S', time.localtime(epoch/1000))\n",
    "def KBtoGB(kb):\n",
    "    return kb/1024/1024"
   ]
  },
  {
   "cell_type": "code",
   "execution_count": 4,
   "metadata": {},
   "outputs": [],
   "source": [
    "# Setup time series calculation values\n",
    "import time\n",
    "from datetime import date\n",
    "endTime = int(time.time())\n",
    "endTime = endTime*1000\n",
    "startTime = endTime-(600*1000)\n",
    "oneWeek = 604800000"
   ]
  },
  {
   "cell_type": "code",
   "execution_count": 5,
   "metadata": {},
   "outputs": [
    {
     "data": {
      "text/html": [
       "<style>.container { width:100% !important; }</style>"
      ],
      "text/plain": [
       "<IPython.core.display.HTML object>"
      ]
     },
     "metadata": {},
     "output_type": "display_data"
    }
   ],
   "source": [
    "# Increase the width of the notebook working spaces\n",
    "from IPython.core.display import display, HTML\n",
    "display(HTML(\"<style>.container { width:100% !important; }</style>\"))"
   ]
  },
  {
   "cell_type": "code",
   "execution_count": null,
   "metadata": {},
   "outputs": [],
   "source": [
    "# CLOUD Databases\n",
    "#database = Db2(\"https://158.175.106.46/dbapi/v4\", False, {'https': 'socks5://127.0.0.1:4444'})\n",
    "#database = Db2(\"https://158.175.106.46/dbapi/v4\")\n",
    "#database = Db2(\"https://9.30.146.214/dbapi/v4\")\n",
    "#database.authenticate(\"blutestadmin\", \"Password!234\")"
   ]
  },
  {
   "cell_type": "code",
   "execution_count": 10,
   "metadata": {},
   "outputs": [],
   "source": [
    "# Enterprise Console Playground\n",
    "profile = \"testConn\"\n",
    "profileURL = \"?profile=\"+profile\n",
    "database = 'http://9.111.141.96:11080'\n",
    "databaseAPI = Db2(database+'/dbapi/v4')\n",
    "databaseAPI.authenticate(\"admin\", \"passw0rd\", profile)"
   ]
  },
  {
   "cell_type": "code",
   "execution_count": 7,
   "metadata": {},
   "outputs": [],
   "source": [
    "# Enterprise Console Local\n",
    "profile = \"SAMPLE\"\n",
    "profileURL = \"?profile=\"+profile\n",
    "database = 'https://127.0.0.1:11081'\n",
    "databaseAPI = Db2(database+'/dbapi/v4')\n",
    "databaseAPI.authenticate(\"admin\", \"password\", profile)"
   ]
  },
  {
   "cell_type": "code",
   "execution_count": null,
   "metadata": {},
   "outputs": [],
   "source": [
    "# BIGSQL Database\n",
    "profileURL = \"\"\n",
    "database = 'https://9.30.160.36:11081'\n",
    "databaseAPI = Db2(database+'/dbapi/v4')\n",
    "databaseAPI.authenticate(\"bigsql\", \"bigsql\")"
   ]
  },
  {
   "cell_type": "code",
   "execution_count": 11,
   "metadata": {},
   "outputs": [
    {
     "name": "stdout",
     "output_type": "stream",
     "text": [
      "{'name': 'testConn', 'HADR_Role': 'STANDARD', 'disableDataCollection': 'false', 'databaseVersion': '11.1.3', 'databaseName': 'sample', 'timeZone': '80000', 'isHADR': 'false', 'DB2Instance': 'db2inst1', 'db2license': 'AESE', 'isInstPureScale': 'false', 'databaseVersion_VRMF': '11.1.3.3', 'sslConnection': 'false', 'userProfileRole': 'OWNER', 'timeZoneDiff': '0', 'host': '9.110.83.221', '_PROFILE_INIT_': 'true', 'dataServerType': 'DB2LUW', 'port': '50000', 'URL': 'jdbc:db2://9.110.83.221:50000/sample', 'edition': 'AESE', 'isInstPartitionable': 'false', 'dataServerExternalType': 'DB2LUW', 'CF_NODE': '', 'capabilities': '[\"trial\"]', 'OSType': 'Linux'}\n"
     ]
    }
   ],
   "source": [
    "# List Monitoring Profile\n",
    "r = databaseAPI.getProfile(profile)\n",
    "json = databaseAPI.getJSON(r)\n",
    "print(json)"
   ]
  },
  {
   "cell_type": "code",
   "execution_count": 12,
   "metadata": {},
   "outputs": [
    {
     "data": {
      "text/html": [
       "<div>\n",
       "<style scoped>\n",
       "    .dataframe tbody tr th:only-of-type {\n",
       "        vertical-align: middle;\n",
       "    }\n",
       "\n",
       "    .dataframe tbody tr th {\n",
       "        vertical-align: top;\n",
       "    }\n",
       "\n",
       "    .dataframe thead th {\n",
       "        text-align: right;\n",
       "    }\n",
       "</style>\n",
       "<table border=\"1\" class=\"dataframe\">\n",
       "  <thead>\n",
       "    <tr style=\"text-align: right;\">\n",
       "      <th></th>\n",
       "      <th>name</th>\n",
       "    </tr>\n",
       "  </thead>\n",
       "  <tbody>\n",
       "    <tr>\n",
       "      <th>0</th>\n",
       "      <td>CINDY</td>\n",
       "    </tr>\n",
       "    <tr>\n",
       "      <th>1</th>\n",
       "      <td>DB2INST1</td>\n",
       "    </tr>\n",
       "    <tr>\n",
       "      <th>2</th>\n",
       "      <td>IBMCONSOLE</td>\n",
       "    </tr>\n",
       "    <tr>\n",
       "      <th>3</th>\n",
       "      <td>IBM_RTMON</td>\n",
       "    </tr>\n",
       "    <tr>\n",
       "      <th>4</th>\n",
       "      <td>NULLID</td>\n",
       "    </tr>\n",
       "    <tr>\n",
       "      <th>5</th>\n",
       "      <td>SQLJ</td>\n",
       "    </tr>\n",
       "    <tr>\n",
       "      <th>6</th>\n",
       "      <td>SYSCAT</td>\n",
       "    </tr>\n",
       "    <tr>\n",
       "      <th>7</th>\n",
       "      <td>SYSFUN</td>\n",
       "    </tr>\n",
       "    <tr>\n",
       "      <th>8</th>\n",
       "      <td>SYSIBM</td>\n",
       "    </tr>\n",
       "    <tr>\n",
       "      <th>9</th>\n",
       "      <td>SYSIBMADM</td>\n",
       "    </tr>\n",
       "  </tbody>\n",
       "</table>\n",
       "</div>"
      ],
      "text/plain": [
       "         name\n",
       "0       CINDY\n",
       "1    DB2INST1\n",
       "2  IBMCONSOLE\n",
       "3   IBM_RTMON\n",
       "4      NULLID\n",
       "5        SQLJ\n",
       "6      SYSCAT\n",
       "7      SYSFUN\n",
       "8      SYSIBM\n",
       "9   SYSIBMADM"
      ]
     },
     "metadata": {},
     "output_type": "display_data"
    }
   ],
   "source": [
    "# List all schema\n",
    "r = databaseAPI.getSchemas()\n",
    "json = databaseAPI.getJSON(r)\n",
    "df = pd.DataFrame(json_normalize(json['resources']))\n",
    "display(df[['name']].head(10)) "
   ]
  },
  {
   "cell_type": "code",
   "execution_count": 13,
   "metadata": {},
   "outputs": [
    {
     "name": "stdout",
     "output_type": "stream",
     "text": [
      "definertype, name\n"
     ]
    },
    {
     "data": {
      "text/html": [
       "<div>\n",
       "<style scoped>\n",
       "    .dataframe tbody tr th:only-of-type {\n",
       "        vertical-align: middle;\n",
       "    }\n",
       "\n",
       "    .dataframe tbody tr th {\n",
       "        vertical-align: top;\n",
       "    }\n",
       "\n",
       "    .dataframe thead th {\n",
       "        text-align: right;\n",
       "    }\n",
       "</style>\n",
       "<table border=\"1\" class=\"dataframe\">\n",
       "  <thead>\n",
       "    <tr style=\"text-align: right;\">\n",
       "      <th></th>\n",
       "      <th>name</th>\n",
       "    </tr>\n",
       "  </thead>\n",
       "  <tbody>\n",
       "    <tr>\n",
       "      <th>0</th>\n",
       "      <td>CINDY</td>\n",
       "    </tr>\n",
       "    <tr>\n",
       "      <th>1</th>\n",
       "      <td>DB2INST1</td>\n",
       "    </tr>\n",
       "    <tr>\n",
       "      <th>2</th>\n",
       "      <td>IBMCONSOLE</td>\n",
       "    </tr>\n",
       "    <tr>\n",
       "      <th>3</th>\n",
       "      <td>IBM_RTMON</td>\n",
       "    </tr>\n",
       "    <tr>\n",
       "      <th>4</th>\n",
       "      <td>NULLID</td>\n",
       "    </tr>\n",
       "    <tr>\n",
       "      <th>5</th>\n",
       "      <td>SQLJ</td>\n",
       "    </tr>\n",
       "    <tr>\n",
       "      <th>6</th>\n",
       "      <td>SYSCAT</td>\n",
       "    </tr>\n",
       "    <tr>\n",
       "      <th>7</th>\n",
       "      <td>SYSFUN</td>\n",
       "    </tr>\n",
       "    <tr>\n",
       "      <th>8</th>\n",
       "      <td>SYSIBM</td>\n",
       "    </tr>\n",
       "    <tr>\n",
       "      <th>9</th>\n",
       "      <td>SYSIBMADM</td>\n",
       "    </tr>\n",
       "  </tbody>\n",
       "</table>\n",
       "</div>"
      ],
      "text/plain": [
       "         name\n",
       "0       CINDY\n",
       "1    DB2INST1\n",
       "2  IBMCONSOLE\n",
       "3   IBM_RTMON\n",
       "4      NULLID\n",
       "5        SQLJ\n",
       "6      SYSCAT\n",
       "7      SYSFUN\n",
       "8      SYSIBM\n",
       "9   SYSIBMADM"
      ]
     },
     "metadata": {},
     "output_type": "display_data"
    }
   ],
   "source": [
    "# List all schema\n",
    "r = databaseAPI.getSchemas()\n",
    "if (databaseAPI.getStatusCode(r)==200):\n",
    "    json = databaseAPI.getJSON(r)\n",
    "    df = pd.DataFrame(json_normalize(json['resources']))\n",
    "    print(', '.join(list(df)))\n",
    "    display(df[['name']].head(10))\n",
    "else:\n",
    "    print(databaseAPI.getStatusCode(r))   "
   ]
  },
  {
   "cell_type": "code",
   "execution_count": 14,
   "metadata": {},
   "outputs": [
    {
     "data": {
      "text/html": [
       "\n",
       "        <iframe\n",
       "            width=\"1400\"\n",
       "            height=\"1000\"\n",
       "            src=\"http://9.111.141.96:11080/console/?mode=compact#monitor/summary?profile=testConn\"\n",
       "            frameborder=\"0\"\n",
       "            allowfullscreen\n",
       "        ></iframe>\n",
       "        "
      ],
      "text/plain": [
       "<IPython.lib.display.IFrame at 0x121a2c5c0>"
      ]
     },
     "execution_count": 14,
     "metadata": {},
     "output_type": "execute_result"
    }
   ],
   "source": [
    "IFrame(database+'/console/?mode=compact#monitor/summary'+profileURL, width=1400, height=1000)"
   ]
  },
  {
   "cell_type": "code",
   "execution_count": 15,
   "metadata": {},
   "outputs": [
    {
     "name": "stdout",
     "output_type": "stream",
     "text": [
      "No data returned\n"
     ]
    }
   ],
   "source": [
    "# Retrieve the number of rows read\n",
    "# List the last 10 data points\n",
    "# Graph the history of the storage usage\n",
    "r = databaseAPI.getRowsRead(0, endTime)\n",
    "if (databaseAPI.getStatusCode(r)==200):\n",
    "    json = databaseAPI.getJSON(r)\n",
    "    if json['count'] > 0:\n",
    "        df = pd.DataFrame(json_normalize(json['timeseries']))\n",
    "        print('Columns')\n",
    "        print(', '.join(list(df)))\n",
    "        df['timestamp'] = df['timestamp'].apply(epochtotimeseries)\n",
    "        display(df[['timestamp','rows_read_per_min']].tail(20))\n",
    "        df.plot(x='timestamp',y='rows_read_per_min') \n",
    "    else: \n",
    "        print('No data returned')\n",
    "else:\n",
    "    print(databaseAPI.getStatusCode(r))\n",
    "    \n"
   ]
  },
  {
   "cell_type": "code",
   "execution_count": null,
   "metadata": {},
   "outputs": [],
   "source": [
    "IFrame(database+'/console/?mode=compact#monitor/overview'+profileURL, width=1600, height=1200)"
   ]
  },
  {
   "cell_type": "code",
   "execution_count": null,
   "metadata": {},
   "outputs": [],
   "source": [
    "IFrame(database+'/console/?mode=compact#sql/explain/e015be3b-2849-4ed4-ab9a-478c1cea38bc', width=1600, height=700)"
   ]
  },
  {
   "cell_type": "code",
   "execution_count": null,
   "metadata": {},
   "outputs": [],
   "source": [
    "IFrame(database+'/console/?mode=compact#monitor/inflight_executions'+profileURL, width=1400, height=360)"
   ]
  },
  {
   "cell_type": "code",
   "execution_count": 16,
   "metadata": {},
   "outputs": [
    {
     "name": "stdout",
     "output_type": "stream",
     "text": [
      "No data returned\n"
     ]
    }
   ],
   "source": [
    "# Retreive the current statements running now\n",
    "# Display the top 10 by execution time\n",
    "r = databaseAPI.getInflightCurrentList()\n",
    "if (databaseAPI.getStatusCode(r)==200):\n",
    "    json = databaseAPI.getJSON(r)\n",
    "    if json['count'] > 0:\n",
    "        df = pd.DataFrame(json_normalize(json['resources']))\n",
    "        print('Columns')\n",
    "        print(', '.join(list(df)))\n",
    "        df = df.sort_values(by='exec_time_ms', ascending=False)\n",
    "        display(df[['application_name','stmt_text','exec_time_ms','estimated_runtime_ms']].head(10))\n",
    "    else: \n",
    "        print('No data returned')\n",
    "else:\n",
    "    code = databaseAPI.getStatusCode(r)\n",
    "    databaseAPI.printResponse(r, code)"
   ]
  },
  {
   "cell_type": "code",
   "execution_count": null,
   "metadata": {},
   "outputs": [],
   "source": [
    "IFrame(database+'/console/?mode=compact#monitor/individual'+profileURL, width=1400, height=480)"
   ]
  },
  {
   "cell_type": "code",
   "execution_count": null,
   "metadata": {},
   "outputs": [],
   "source": [
    "# Retrieve the statements that ran over the last week.\n",
    "# Retrieve the first 10000 statements\n",
    "# Show the top ten by Total CPU TIME\n",
    "startTimeMinusWeek = endTime - oneWeek\n",
    "r = databaseAPI.getIndividualStatementExecution(startTimeMinusWeek, endTime, 10000)\n",
    "if (databaseAPI.getStatusCode(r)==200):\n",
    "    json = databaseAPI.getJSON(r)\n",
    "    if json['count'] > 0:     \n",
    "        df = pd.DataFrame(json_normalize(json['resources']))\n",
    "        print('Columns')\n",
    "        print(', '.join(list(df)))\n",
    "        df = df.sort_values(by='total_cpu_time', ascending=False)\n",
    "        display(df[['sql_text','total_cpu_time','wlm_queue_time_total','stmt_exec_time']].head(10))\n",
    "    else: \n",
    "        print('No data returned')  \n",
    "else:\n",
    "    code = databaseAPI.getStatusCode(r)\n",
    "    databaseAPI.printResponse(r, code)"
   ]
  },
  {
   "cell_type": "code",
   "execution_count": null,
   "metadata": {},
   "outputs": [],
   "source": [
    "IFrame(database+'/console/?mode=compact#monitor/package_cache'+profileURL, width=1400, height=480)"
   ]
  },
  {
   "cell_type": "code",
   "execution_count": null,
   "metadata": {},
   "outputs": [],
   "source": [
    "r = databaseAPI.getCurrentPackageCacheList()\n",
    "if (databaseAPI.getStatusCode(r)==200):\n",
    "    json = databaseAPI.getJSON(r)\n",
    "    if json['count'] > 0:  \n",
    "        df = pd.DataFrame(json_normalize(json['resources']))\n",
    "        print('Columns')\n",
    "        print(', '.join(list(df)))\n",
    "        display(df[['stmt_text','stmt_exec_time_ms','stmtid']].head(10))\n",
    "    else: \n",
    "        print('No data returned')  \n",
    "else:\n",
    "    print(databaseAPI.getStatusCode(r))"
   ]
  },
  {
   "cell_type": "code",
   "execution_count": null,
   "metadata": {},
   "outputs": [],
   "source": [
    "IFrame(database+'/console/?mode=compact#monitor/locked_objects_with_waiting_connections'+profileURL, width=1400, height=480)"
   ]
  },
  {
   "cell_type": "code",
   "execution_count": null,
   "metadata": {},
   "outputs": [],
   "source": [
    "IFrame(database+'/console/?mode=compact#monitor/connections'+profileURL, width=1400, height=480)"
   ]
  },
  {
   "cell_type": "code",
   "execution_count": null,
   "metadata": {},
   "outputs": [],
   "source": [
    "# Display the 10 most recently started Database Connections\n",
    "r = databaseAPI.getCurrentApplicationsConnections()\n",
    "if (databaseAPI.getStatusCode(r)==200):\n",
    "    json = databaseAPI.getJSON(r)\n",
    "    if json['count'] > 0: \n",
    "        df = pd.DataFrame(json_normalize(json['resources']))\n",
    "        print(', '.join(list(df)))\n",
    "        df = df.sort_values(by='connection_start_time', ascending=False)\n",
    "        df['connection_start_time'] = df['connection_start_time'].apply(epochtotimeseries)\n",
    "        display(df[['application_name','application_handle','connection_start_time']].head(10))\n",
    "    else: \n",
    "        print('No data returned')  \n",
    "else:\n",
    "    print(databaseAPI.getStatusCode(r))"
   ]
  },
  {
   "cell_type": "code",
   "execution_count": null,
   "metadata": {},
   "outputs": [],
   "source": [
    "IFrame(database+'/console/?mode=compact#monitor/wlm_workload_summary', width=1400, height=480)"
   ]
  },
  {
   "cell_type": "code",
   "execution_count": null,
   "metadata": {},
   "outputs": [],
   "source": [
    "IFrame(database+'/console/?mode=compact#monitor/storage', width=1400, height=480)"
   ]
  },
  {
   "cell_type": "code",
   "execution_count": null,
   "metadata": {},
   "outputs": [],
   "source": [
    "# Retrieve the storage size for the Historical Data Repostory stored in IBMCONSOLE schema.\n",
    "# List the last 10 data points\n",
    "# Graph the history of the storage usage\n",
    "tabSchema = 'IBMCONSOLE'\n",
    "r = databaseAPI.getSchemaSize(0, endTime, tabSchema)\n",
    "if (databaseAPI.getStatusCode(r)==200):\n",
    "    json = databaseAPI.getJSON(r)\n",
    "    if json['count'] > 0: \n",
    "        df = pd.DataFrame(json_normalize(json['timeseries']))\n",
    "        print('Columns')\n",
    "        print(', '.join(list(df)))\n",
    "        df['total_physical_size_gb'] = df['total_physical_size_kb'].apply(KBtoGB)\n",
    "        df['timestamp'] = df['timestamp'].apply(epochtotimeseries)\n",
    "        display(df[['timestamp','total_physical_size_gb']].tail(10))\n",
    "        df.plot(x='timestamp',y='total_physical_size_gb')\n",
    "    else: \n",
    "        print('No data returned') \n",
    "else:\n",
    "    print(databaseAPI.getStatusCode(r))"
   ]
  },
  {
   "cell_type": "code",
   "execution_count": null,
   "metadata": {},
   "outputs": [],
   "source": [
    "# List storage used by schema\n",
    "# Display the top ten schemas\n",
    "r = databaseAPI.getTableStorageBySchema()\n",
    "if (databaseAPI.getStatusCode(r)==200):\n",
    "    json = databaseAPI.getJSON(r)\n",
    "    if json['count'] > 0: \n",
    "        df = pd.DataFrame(json_normalize(json['resources']))\n",
    "        df['space_mb'] = df['data_physical_size_kb'].apply(lambda x: x / 1024)\n",
    "        df = df.sort_values(by='data_physical_size_kb', ascending=False)    \n",
    "        display(df[['schema','space_mb']].head(10))\n",
    "    else: \n",
    "        print('No data returned') \n",
    "else:\n",
    "    print(\"RC: \"+str(databaseAPI.getStatusCode(r)))    "
   ]
  },
  {
   "cell_type": "code",
   "execution_count": null,
   "metadata": {},
   "outputs": [],
   "source": [
    "# List any open alerts using part of the Console Interface\n",
    "IFrame(database+'/console/?mode=compact#monitor/notification'+profileURL, width=1400, height=480)"
   ]
  },
  {
   "cell_type": "code",
   "execution_count": null,
   "metadata": {},
   "outputs": [],
   "source": [
    "# Explore tables in your database using part of the Console Interface\n",
    "IFrame(database+'/console/?mode=compact#explore/table'+profileURL, width=1400, height=480)"
   ]
  },
  {
   "cell_type": "code",
   "execution_count": 17,
   "metadata": {},
   "outputs": [
    {
     "name": "stdout",
     "output_type": "stream",
     "text": [
      "Columns:\n",
      "alter_time, create_time, optimize_query, owner, owner_type, read_only, sql, stats_time, valid, view_check, view_name, view_schema\n"
     ]
    },
    {
     "data": {
      "text/html": [
       "<div>\n",
       "<style scoped>\n",
       "    .dataframe tbody tr th:only-of-type {\n",
       "        vertical-align: middle;\n",
       "    }\n",
       "\n",
       "    .dataframe tbody tr th {\n",
       "        vertical-align: top;\n",
       "    }\n",
       "\n",
       "    .dataframe thead th {\n",
       "        text-align: right;\n",
       "    }\n",
       "</style>\n",
       "<table border=\"1\" class=\"dataframe\">\n",
       "  <thead>\n",
       "    <tr style=\"text-align: right;\">\n",
       "      <th></th>\n",
       "      <th>view_name</th>\n",
       "    </tr>\n",
       "  </thead>\n",
       "  <tbody>\n",
       "    <tr>\n",
       "      <th>0</th>\n",
       "      <td>TABLE_CONSTRAINTS</td>\n",
       "    </tr>\n",
       "    <tr>\n",
       "      <th>1</th>\n",
       "      <td>TABLES</td>\n",
       "    </tr>\n",
       "    <tr>\n",
       "      <th>2</th>\n",
       "      <td>TABLES_S</td>\n",
       "    </tr>\n",
       "    <tr>\n",
       "      <th>3</th>\n",
       "      <td>EVENTTABLES</td>\n",
       "    </tr>\n",
       "    <tr>\n",
       "      <th>4</th>\n",
       "      <td>TABLES</td>\n",
       "    </tr>\n",
       "    <tr>\n",
       "      <th>5</th>\n",
       "      <td>TABLESPACES</td>\n",
       "    </tr>\n",
       "    <tr>\n",
       "      <th>6</th>\n",
       "      <td>TABLES</td>\n",
       "    </tr>\n",
       "    <tr>\n",
       "      <th>7</th>\n",
       "      <td>SQLTABLEPRIVILEGES</td>\n",
       "    </tr>\n",
       "    <tr>\n",
       "      <th>8</th>\n",
       "      <td>SQLTABLETYPES</td>\n",
       "    </tr>\n",
       "    <tr>\n",
       "      <th>9</th>\n",
       "      <td>SQLTABLES</td>\n",
       "    </tr>\n",
       "  </tbody>\n",
       "</table>\n",
       "</div>"
      ],
      "text/plain": [
       "            view_name\n",
       "0   TABLE_CONSTRAINTS\n",
       "1              TABLES\n",
       "2            TABLES_S\n",
       "3         EVENTTABLES\n",
       "4              TABLES\n",
       "5         TABLESPACES\n",
       "6              TABLES\n",
       "7  SQLTABLEPRIVILEGES\n",
       "8       SQLTABLETYPES\n",
       "9           SQLTABLES"
      ]
     },
     "metadata": {},
     "output_type": "display_data"
    }
   ],
   "source": [
    "# Search for tables across all schemas that match simple search critera \n",
    "# Display the first 100\n",
    "# Switch between searching tables or views\n",
    "object = 'view'\n",
    "#object = 'table'\n",
    "r = databaseAPI.postSearchObjects(object,\"TABLE\",10,'true','false')\n",
    "if (databaseAPI.getStatusCode(r)==200):\n",
    "    json = databaseAPI.getJSON(r)\n",
    "    df = pd.DataFrame(json_normalize(json))\n",
    "    print('Columns:')\n",
    "    print(', '.join(list(df)))\n",
    "    display(df[[object+'_name']].head(100))\n",
    "else:\n",
    "    print(\"RC: \"+str(databaseAPI.getStatusCode(r)))"
   ]
  },
  {
   "cell_type": "code",
   "execution_count": 18,
   "metadata": {},
   "outputs": [
    {
     "name": "stdout",
     "output_type": "stream",
     "text": [
      "name, schema\n"
     ]
    },
    {
     "data": {
      "text/html": [
       "<div>\n",
       "<style scoped>\n",
       "    .dataframe tbody tr th:only-of-type {\n",
       "        vertical-align: middle;\n",
       "    }\n",
       "\n",
       "    .dataframe tbody tr th {\n",
       "        vertical-align: top;\n",
       "    }\n",
       "\n",
       "    .dataframe thead th {\n",
       "        text-align: right;\n",
       "    }\n",
       "</style>\n",
       "<table border=\"1\" class=\"dataframe\">\n",
       "  <thead>\n",
       "    <tr style=\"text-align: right;\">\n",
       "      <th></th>\n",
       "      <th>schema</th>\n",
       "      <th>name</th>\n",
       "    </tr>\n",
       "  </thead>\n",
       "  <tbody>\n",
       "    <tr>\n",
       "      <th>0</th>\n",
       "      <td>SYSIBM</td>\n",
       "      <td>SYN190527163358641001_T2</td>\n",
       "    </tr>\n",
       "    <tr>\n",
       "      <th>1</th>\n",
       "      <td>SYSIBM</td>\n",
       "      <td>SYSATTRIBUTES</td>\n",
       "    </tr>\n",
       "    <tr>\n",
       "      <th>2</th>\n",
       "      <td>SYSIBM</td>\n",
       "      <td>SYSAUDITEXCEPTIONS</td>\n",
       "    </tr>\n",
       "    <tr>\n",
       "      <th>3</th>\n",
       "      <td>SYSIBM</td>\n",
       "      <td>SYSAUDITPOLICIES</td>\n",
       "    </tr>\n",
       "    <tr>\n",
       "      <th>4</th>\n",
       "      <td>SYSIBM</td>\n",
       "      <td>SYSAUDITUSE</td>\n",
       "    </tr>\n",
       "    <tr>\n",
       "      <th>5</th>\n",
       "      <td>SYSIBM</td>\n",
       "      <td>SYSBUFFERPOOLNODES</td>\n",
       "    </tr>\n",
       "    <tr>\n",
       "      <th>6</th>\n",
       "      <td>SYSIBM</td>\n",
       "      <td>SYSBUFFERPOOLS</td>\n",
       "    </tr>\n",
       "    <tr>\n",
       "      <th>7</th>\n",
       "      <td>SYSIBM</td>\n",
       "      <td>SYSCHECKS</td>\n",
       "    </tr>\n",
       "    <tr>\n",
       "      <th>8</th>\n",
       "      <td>SYSIBM</td>\n",
       "      <td>SYSCODEPROPERTIES</td>\n",
       "    </tr>\n",
       "    <tr>\n",
       "      <th>9</th>\n",
       "      <td>SYSIBM</td>\n",
       "      <td>SYSCOLAUTH</td>\n",
       "    </tr>\n",
       "  </tbody>\n",
       "</table>\n",
       "</div>"
      ],
      "text/plain": [
       "     schema                      name\n",
       "0  SYSIBM    SYN190527163358641001_T2\n",
       "1  SYSIBM               SYSATTRIBUTES\n",
       "2  SYSIBM          SYSAUDITEXCEPTIONS\n",
       "3  SYSIBM            SYSAUDITPOLICIES\n",
       "4  SYSIBM                 SYSAUDITUSE\n",
       "5  SYSIBM          SYSBUFFERPOOLNODES\n",
       "6  SYSIBM              SYSBUFFERPOOLS\n",
       "7  SYSIBM                   SYSCHECKS\n",
       "8  SYSIBM           SYSCODEPROPERTIES\n",
       "9  SYSIBM                  SYSCOLAUTH"
      ]
     },
     "metadata": {},
     "output_type": "display_data"
    }
   ],
   "source": [
    "# Find all the tables in the SYSIBM schema and display the first 10\n",
    "schema = 'SYSIBM'\n",
    "r = databaseAPI.getTablesInSchema(schema)\n",
    "if (databaseAPI.getStatusCode(r)==200):\n",
    "    json = databaseAPI.getJSON(r)\n",
    "    df = pd.DataFrame(json_normalize(json['resources']))\n",
    "    print(', '.join(list(df)))\n",
    "    display(df[['schema','name']].head(10))\n",
    "else:\n",
    "    print(databaseAPI.getStatusCode(r))   "
   ]
  },
  {
   "cell_type": "markdown",
   "metadata": {},
   "source": []
  }
 ],
 "metadata": {
  "kernelspec": {
   "display_name": "Python 3",
   "language": "python",
   "name": "python3"
  },
  "language_info": {
   "codemirror_mode": {
    "name": "ipython",
    "version": 3
   },
   "file_extension": ".py",
   "mimetype": "text/x-python",
   "name": "python",
   "nbconvert_exporter": "python",
   "pygments_lexer": "ipython3",
   "version": "3.7.3"
  }
 },
 "nbformat": 4,
 "nbformat_minor": 2
}
